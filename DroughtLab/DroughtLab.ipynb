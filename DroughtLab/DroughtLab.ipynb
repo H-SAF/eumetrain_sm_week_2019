{
 "cells": [
  {
   "cell_type": "markdown",
   "metadata": {},
   "source": [
    "# Soil Moisture Event Week\n",
    "## Drought monitoring through H SAF SM products"
   ]
  },
  {
   "cell_type": "markdown",
   "metadata": {},
   "source": [
    "In this exercise we will:\n",
    "\n",
    "* extract soil moisture and ERA5 rainfall time-series for the study basin (Tiber river basins) \n",
    "* resample the time-series over the same grid and aggregate the values at monthly time step\n",
    "* Performing some analyses, listed in the following, using soil moisture/rainfall time series and droughts indexes:\n",
    "1. Computation of “seasonal” soil moisture\n",
    "2. Computation of soil moisture anomalies averaged on the basin\n",
    "3. Computation of Standardized Soil Moisture (SSI) drought index: time series averaged on the basin\n",
    "4. Comparison of soil moisture (SSI) and precipitation (SPI) based drought indices\n",
    "5. Drought in space: maps comparison\n",
    "\n",
    "We will use two satellite-based soil moisture products:\n",
    "\n",
    "* H113 = surface soil moisture data record, based ONLY on satellite soil moisture data from ASCAT\n",
    "* H27 =  root-zone soil moisture obtained from the assimilation of ASCAT soil moisture into ECMWF IFS (integrated Forecasting System)\n"
   ]
  },
  {
   "cell_type": "markdown",
   "metadata": {},
   "source": [
    "### Libraries"
   ]
  },
  {
   "cell_type": "code",
   "execution_count": null,
   "metadata": {},
   "outputs": [],
   "source": [
    "%matplotlib inline\n",
    "\n",
    "# Libraries\n",
    "import os\n",
    "import calendar\n",
    "import datetime\n",
    "import numpy as np\n",
    "import pandas as pd\n",
    "from os.path import join\n",
    "\n",
    "from library.cima.domain_utils import get_grid, get_file_shp, get_file_json, create_points_shp\n",
    "from library.cima.ts_utils import df_time_matching, df_temporal_matching, df_period_selection\n",
    "from library.cima.ts_dset_reader import dset_init, dset_config, dset_period\n",
    "from library.cima.map_utils import interpolate_point2map, create_map, create_image\n",
    "\n",
    "from library.irpi.indices.drought import ssi, spi, ssi_gamma, spi_gamma\n",
    "\n",
    "from pytesmo.scaling import get_scaling_function, get_scaling_method_lut\n",
    "from pytesmo.time_series.filters import exp_filter\n",
    "from pytesmo.time_series import anomaly\n",
    "\n",
    "from mpl_toolkits.basemap import Basemap\n",
    "import matplotlib.pyplot as plt\n",
    "import matplotlib.colors as mc\n",
    "# Info\n",
    "print('Libraries loaded!')"
   ]
  },
  {
   "cell_type": "markdown",
   "metadata": {},
   "source": [
    "### Exercise Configuration\n",
    "#### In the configuration part:\n",
    "* select your basin\n",
    "* set correct paths of the data (change data_path_all from '/home/melone/Corso/SM_EventWeek/DroughtLab' to your path)\n",
    "* select time period of datasets\n",
    "* set thresholds of snow and frozen conditions to filter ASCAT dataset"
   ]
  },
  {
   "cell_type": "code",
   "execution_count": null,
   "metadata": {},
   "outputs": [],
   "source": [
    "# Domain\n",
    "domain = 'italy'\n",
    "file_shp_domain = 'tiber_basin.shp'\n",
    "file_tiff_domain = 'tiber_basin.tiff'\n",
    "\n",
    "# Path(s)\n",
    "data_path_all = os.path.join('/home/melone/Corso/SM_EventWeek/DroughtLab')\n",
    "\n",
    "data_path_dyn = os.path.join(data_path_all, 'dynamic')\n",
    "data_path_static = os.path.join(data_path_all, 'static')\n",
    "tmp_path = os.path.join(data_path_all, 'tmp')\n",
    "img_path = os.path.join(data_path_all, 'img')\n",
    "\n",
    "ascat_path_ts = os.path.join(data_path_dyn, 'ascat_dr', domain)\n",
    "ascat_path_grid = os.path.join(data_path_static, 'warp5_grid')\n",
    "ascat_path_layers = os.path.join(data_path_static, 'warp5_layers')\n",
    "ascat_path_tmp = os.path.join(tmp_path, 'ascat')\n",
    "\n",
    "era5_path_ts = os.path.join(data_path_dyn, 'era5_ts', domain)\n",
    "era5_path_grid = os.path.join(data_path_dyn, 'era5_ts', domain)\n",
    "era5_path_tmp = os.path.join(tmp_path, 'era5')\n",
    "\n",
    "rzsm_path_ts = os.path.join(data_path_dyn, 'rzsm_ts', domain)\n",
    "rzsm_path_grid = os.path.join(data_path_dyn, 'rzsm_ts', domain)\n",
    "rzsm_path_tmp = os.path.join(tmp_path, 'rzsm')\n",
    "\n",
    "domain_path_layer = os.path.join(data_path_static, 'shp', domain)\n",
    "exercize_path_img = os.path.join(img_path, 'lab1')\n",
    "\n",
    "# Parametershp\n",
    "ascat_mask_frozen_prob_threshold = 100   # if mask value is greater than threshold the value is discarded\n",
    "ascat_mask_snow_prob_threshold = 100     # if mask value is greater than threshold the value is discarded\n",
    "\n",
    "time_start = \"2007-01-01\" # format \"%Y-%m-%d\"\n",
    "time_end = \"2014-12-31\"   # \"format %Y-%m-%d\"  \n",
    "\n",
    "temporal_matching = 24\n",
    "temporal_drop_duplicates = False\n",
    "\n",
    "max_dist = 35000\n",
    "\n",
    "# Create img path\n",
    "if not os.path.exists(exercize_path_img):\n",
    "    os.makedirs(exercize_path_img)"
   ]
  },
  {
   "cell_type": "markdown",
   "metadata": {},
   "source": [
    "### Basin Configuration\n",
    "The script loads the shapefile of the basin and creates a mask using the defined cell_size (degree) and boudary box buffer (bbox_ext in degree). \n",
    "After running the cell, results can be check using QGIS"
   ]
  },
  {
   "cell_type": "code",
   "execution_count": null,
   "metadata": {},
   "outputs": [],
   "source": [
    "# Get basin information using a shapefile\n",
    "basin_rows, basin_cols, basin_epsg, basin_transform, basin_meta_reference = get_file_shp(\n",
    "    os.path.join(domain_path_layer, file_shp_domain),\n",
    "    os.path.join(domain_path_layer, file_tiff_domain),\n",
    "    cell_size=0.005, bbox_ext=0)\n",
    "# Print information about basin \n",
    "print(basin_rows, basin_cols, basin_epsg, basin_transform)"
   ]
  },
  {
   "cell_type": "code",
   "execution_count": null,
   "metadata": {},
   "outputs": [],
   "source": [
    "# Create basin grid using WARP5 reference system\n",
    "basin_grid, basin_lons_2d, basin_lats_2d, basin_bbox = get_grid(\n",
    "    os.path.join(domain_path_layer, file_tiff_domain))\n",
    "# Print information about basin \n",
    "print(basin_bbox)\n",
    "# Using QGIS to:\n",
    "# 1) load basin shapefile\n",
    "# 2) load basin tiff\n",
    "# 3) check results"
   ]
  },
  {
   "cell_type": "markdown",
   "metadata": {},
   "source": [
    "### Datasets configuration\n",
    "In this part ASCAT, ERA5 and RZSM datasets are configured using parameters and paths set previously.\n",
    "- Step 1 -- Create settings dictionary to summarize information about datasets"
   ]
  },
  {
   "cell_type": "code",
   "execution_count": null,
   "metadata": {},
   "outputs": [],
   "source": [
    "# Create ASCAT, ERA5 and RZSM settings\n",
    "settings = {\n",
    "    \"_comment\": \"configuration file for ascat, era5 and rzsm datasets\",\n",
    "    \"ascat_path_ts\": ascat_path_ts,\n",
    "    \"ascat_path_grid\": ascat_path_grid,\n",
    "    \"ascat_path_layer\": ascat_path_layers,\n",
    "    \"ascat_path_tmp\": ascat_path_tmp,\n",
    "    \"ascat_mask_frozen_prob_threshold\": ascat_mask_frozen_prob_threshold,\n",
    "    \"ascat_mask_snow_prob_threshold\": ascat_mask_snow_prob_threshold,\n",
    "    \"era5_path_ts\": era5_path_ts,\n",
    "    \"era5_path_grid\": era5_path_grid,\n",
    "    \"era5_path_tmp\": era5_path_tmp,\n",
    "    \"rzsm_path_ts\": rzsm_path_ts,\n",
    "    \"rzsm_path_grid\": rzsm_path_grid,\n",
    "    \"rzsm_path_tmp\": rzsm_path_tmp,\n",
    "    \"domain_path_layer\": domain_path_layer,\n",
    "    \"time_start\": time_start,\n",
    "    \"time_end\": time_end,\n",
    "    \"temporal_matching\": temporal_matching,\n",
    "    \"temporal_drop_duplicates\": temporal_drop_duplicates,\n",
    "    \"max_dist\": max_dist\n",
    "}"
   ]
  },
  {
   "cell_type": "markdown",
   "metadata": {},
   "source": [
    "* Step 2 -- Initialize and configure reader objects for ASCAT, ERA5 and RZSM datasets"
   ]
  },
  {
   "cell_type": "code",
   "execution_count": null,
   "metadata": {},
   "outputs": [],
   "source": [
    "# Initialize ASCAT, ERA5 and RZSM datasets\n",
    "reader_ascat, reader_era5, reader_rzsm = dset_init(settings)\n",
    "datasets = dset_config(reader_ascat, reader_era5, reader_rzsm, settings)"
   ]
  },
  {
   "cell_type": "markdown",
   "metadata": {},
   "source": [
    "* Step 3 -- Find GPIS of ASCAT, ERA5 and RZSM datasets using basin reference"
   ]
  },
  {
   "cell_type": "code",
   "execution_count": null,
   "metadata": {},
   "outputs": [],
   "source": [
    "# Create ASCAT, ERA5 and RZSM grid(s) using basin information\n",
    "# Get ascat gpi(s)\n",
    "gpis_ascat, lats_ascat, lons_ascat = reader_ascat.grid.get_bbox_grid_points(\n",
    "    latmin=basin_bbox.bottom, latmax=basin_bbox.top, lonmin=basin_bbox.left,\n",
    "    lonmax=basin_bbox.right, both=True)\n",
    "gpis_ascat_n = gpis_ascat.__len__()\n",
    "# Get era5 gpi(s)\n",
    "gpis_era5, lats_era5, lons_era5 = reader_era5.grid.get_bbox_grid_points(\n",
    "    latmin=basin_bbox.bottom, latmax=basin_bbox.top, lonmin=basin_bbox.left,\n",
    "    lonmax=basin_bbox.right, both=True)\n",
    "gpis_era5_n = gpis_era5.__len__()\n",
    "# Get rzsm gpi(s)\n",
    "gpis_rzsm, lats_rzsm, lons_rzsm = reader_rzsm.grid.get_bbox_grid_points(\n",
    "    latmin=basin_bbox.bottom, latmax=basin_bbox.top, lonmin=basin_bbox.left,\n",
    "    lonmax=basin_bbox.right, both=True)\n",
    "gpis_rzsm_n = gpis_rzsm.__len__()\n",
    "\n",
    "# Print information about ASCAT, ERA5 and RZSM gpi(s) numerosity\n",
    "print(\"ASCAT GPIS N: \" + str(gpis_ascat_n))\n",
    "print(\"ERA5 GPIS N: \" + str(gpis_era5_n))\n",
    "print(\"RZSM GPIS N: \" + str(gpis_rzsm_n))"
   ]
  },
  {
   "cell_type": "markdown",
   "metadata": {},
   "source": [
    "- Step 4 -- Verify, for each dataset, if there are enough gpis inside the basin.\n",
    "Using QGIS, load the created shapefiles and check the gpis availability."
   ]
  },
  {
   "cell_type": "code",
   "execution_count": null,
   "metadata": {},
   "outputs": [],
   "source": [
    "# Find ASCAT gpi(s) over basin (using a maximum distance parameter)\n",
    "gpis_basin_ascat = basin_grid.calc_lut(reader_ascat.grid, max_dist=settings['max_dist'])\n",
    "gpis_basin_ascat = np.unique(gpis_basin_ascat)\n",
    "lons_basin_ascat, lats_basin_ascat = reader_ascat.grid.gpi2lonlat(gpis_basin_ascat)\n",
    "# Create shapefile of ASCAT gpi(s) over basin\n",
    "create_points_shp(gpis_basin_ascat, lons_basin_ascat, lats_basin_ascat, \n",
    "                  file_name_shp=os.path.join(domain_path_layer, 'lab1_basin_ascat.shp'))"
   ]
  },
  {
   "cell_type": "code",
   "execution_count": null,
   "metadata": {},
   "outputs": [],
   "source": [
    "# Find ERA5 gpi(s) over basin (using a maximum distance parameter)\n",
    "gpis_basin_era5 = basin_grid.calc_lut(reader_era5.grid, max_dist=settings['max_dist'])\n",
    "gpis_basin_era5 = np.unique(gpis_basin_era5)\n",
    "lons_basin_era5, lats_basin_era5 = reader_era5.grid.gpi2lonlat(gpis_basin_era5)\n",
    "# Create shapefile of ERA5 gpi(s) over basin\n",
    "create_points_shp(gpis_basin_era5, lons_basin_era5, lats_basin_era5, \n",
    "                  file_name_shp=os.path.join(domain_path_layer, 'lab1_basin_era5.shp'))"
   ]
  },
  {
   "cell_type": "code",
   "execution_count": null,
   "metadata": {},
   "outputs": [],
   "source": [
    "# Find RZSM gpi(s) over basin (using a maximum distance parameter)\n",
    "gpis_basin_rzsm = basin_grid.calc_lut(reader_rzsm.grid, max_dist=settings['max_dist'])\n",
    "gpis_basin_rzsm = np.unique(gpis_basin_rzsm)\n",
    "lons_basin_rzsm, lats_basin_rzsm = reader_rzsm.grid.gpi2lonlat(gpis_basin_rzsm)\n",
    "# Create shapefile of RZSM gpi(s) over basin\n",
    "create_points_shp(gpis_basin_rzsm, lons_basin_rzsm, lats_basin_rzsm, \n",
    "                  file_name_shp=os.path.join(domain_path_layer, 'lab1_basin_rzsm.shp'))"
   ]
  },
  {
   "cell_type": "markdown",
   "metadata": {},
   "source": [
    "* Step 5 -- Find gpis of ERA5 and RZSM using ASCAT as reference dataset"
   ]
  },
  {
   "cell_type": "code",
   "execution_count": null,
   "metadata": {},
   "outputs": [],
   "source": [
    "# Define ASCAT, ERA5 and RZSM common gpis\n",
    "gpis_ascat_ws = reader_ascat.grid.find_nearest_gpi(lons_ascat, lats_ascat, max_dist=settings['max_dist'])\n",
    "gpis_ascat = gpis_ascat_ws[0]; dist_ascat = gpis_ascat_ws[1];\n",
    "lons_ascat, lats_ascat = reader_ascat.grid.gpi2lonlat(gpis_ascat)\n",
    "\n",
    "gpis_era5_ws = reader_era5.grid.find_nearest_gpi(lons_ascat, lats_ascat, max_dist=settings['max_dist'])\n",
    "gpis_era5 = gpis_era5_ws[0]; dist_era5 = gpis_era5_ws[1];\n",
    "lons_era5, lats_era5 = reader_era5.grid.gpi2lonlat(gpis_era5)\n",
    "\n",
    "gpis_rzsm_ws = reader_rzsm.grid.find_nearest_gpi(lons_ascat, lats_ascat, max_dist=settings['max_dist'])\n",
    "gpis_rzsm = gpis_rzsm_ws[0]; dist_rzsm = gpis_rzsm_ws[1];\n",
    "lons_rzsm, lats_rzsm = reader_rzsm.grid.gpi2lonlat(gpis_rzsm)"
   ]
  },
  {
   "cell_type": "markdown",
   "metadata": {},
   "source": [
    "### A. Extract ASCAT,  ERA5 and RZSM datasets\n",
    "#### 1. Extract the time-series of ASCAT and RZSM\n",
    "* get all GPIS over domain\n",
    "* resample to weekly values"
   ]
  },
  {
   "cell_type": "code",
   "execution_count": null,
   "metadata": {},
   "outputs": [],
   "source": [
    "# Compute ASCAT monthly time-series\n",
    "ts_resample = pd.DataFrame()\n",
    "ts_res= pd.DataFrame()\n",
    "for id, (gpi_ascat, lon_ascat, lat_ascat) in enumerate(zip(gpis_basin_ascat, lons_basin_ascat, lats_basin_ascat)):\n",
    "    \n",
    "    # Get ASCAT data\n",
    "    print(' ==> Step: ' + str(id+1) + '/' + str(gpis_basin_ascat.shape[0]))\n",
    "    \n",
    "    ts_SM = 'sm_' + str(gpi_ascat)\n",
    "    ts_ascat = reader_ascat.read_ts(gpi_ascat)\n",
    "    ts_ascat = ts_ascat.loc[settings['time_start']:settings['time_end']]\n",
    "    ts_res['sm']= ts_ascat.sm.resample('W').mean().dropna()\n",
    "    ts_res['day'] = ts_res.sm.index.day\n",
    "    ts_res['month'] = ts_res.sm.index.month\n",
    "    ts_res['year'] = ts_res.sm.index.year\n",
    "    ts_res['doy'] = ts_res.sm.index.dayofyear\n",
    "    ts_resample[ts_SM] = ts_ascat.sm.resample('W').mean().dropna()\n",
    "    \n",
    "ts_resample['mean']=ts_resample.mean(axis=1)\n",
    "ts_resample['day']=ts_res['day']\n",
    "ts_resample['month']=ts_res['month']\n",
    "ts_resample['year']=ts_res['year'] \n",
    "ts_resample['doy']=ts_res['doy']"
   ]
  },
  {
   "cell_type": "code",
   "execution_count": null,
   "metadata": {},
   "outputs": [],
   "source": [
    "# Compute H27 monthly time-series\n",
    "ts_resample_rzsm = pd.DataFrame()\n",
    "ts_res_rzsm= pd.DataFrame()\n",
    "for id, (gpi_ascat, lon_ascat, lat_ascat) in enumerate(zip(gpis_basin_ascat, lons_basin_ascat, lats_basin_ascat)):\n",
    "    \n",
    "    # Select gpi for RZSM and ERA5\n",
    "    gpi_rzsm = reader_rzsm.grid.find_nearest_gpi(lon_ascat, lat_ascat, max_dist=settings['max_dist'])[0]\n",
    "    lon_rzsm, lat_rzsm = reader_rzsm.grid.gpi2lonlat(gpi_rzsm)\n",
    "    \n",
    "    gpi_era5 = reader_era5.grid.find_nearest_gpi(lon_ascat, lat_ascat, max_dist=settings['max_dist'])[0]\n",
    "    lon_era5, lat_era5 = reader_era5.grid.gpi2lonlat(gpi_era5)\n",
    "    \n",
    "    # Get RZSM data\n",
    "    print(' ==> Step: ' + str(id+1) + '/' + str(gpis_basin_ascat.shape[0]))\n",
    "    \n",
    "    ts_SM_rzsm = 'sm_' + str(gpi_ascat)\n",
    "    \n",
    "    ts_rzsm = reader_rzsm.read_ts(gpi_rzsm)\n",
    "    ts_rzsm = ts_rzsm.loc[settings['time_start']:settings['time_end']]\n",
    "    ts_res_rzsm['sm']= ts_rzsm.var40.resample('W').mean().dropna()\n",
    "    ts_res_rzsm['day'] = ts_res_rzsm.sm.index.day\n",
    "    ts_res_rzsm['month'] = ts_res_rzsm.sm.index.month\n",
    "    ts_res_rzsm['year'] = ts_res_rzsm.sm.index.year\n",
    "    ts_res_rzsm['doy'] = ts_res_rzsm.sm.index.dayofyear\n",
    "    ts_resample_rzsm[ts_SM_rzsm] = ts_rzsm.var40.resample('W').mean().dropna()\n",
    "    \n",
    "ts_resample_rzsm['mean']=ts_resample_rzsm.mean(axis=1)\n",
    "ts_resample_rzsm['day']=ts_res_rzsm['day']\n",
    "ts_resample_rzsm['month']=ts_res_rzsm['month']\n",
    "ts_resample_rzsm['year']=ts_res_rzsm['year'] \n",
    "ts_resample_rzsm['doy']=ts_res_rzsm['doy']"
   ]
  },
  {
   "cell_type": "markdown",
   "metadata": {},
   "source": [
    "#### 2. Create a pivot table to organize data using month as a reference"
   ]
  },
  {
   "cell_type": "code",
   "execution_count": null,
   "metadata": {},
   "outputs": [],
   "source": [
    "# Create pivot tables using months as indices for ASCAT soil moisture (H113)\n",
    "ts_pivot = pd.pivot_table(ts_resample, index=['month'], columns=['year'], values=['mean'])\n",
    "ts_group = pd.DataFrame()\n",
    "ts_group['sm'] = ts_resample.groupby(['month'])['mean'].mean()\n",
    "ts_group['index'] = ts_group.sm.index"
   ]
  },
  {
   "cell_type": "code",
   "execution_count": null,
   "metadata": {},
   "outputs": [],
   "source": [
    "# Create pivot tables using months as indices for ECMEF Root zone soil moisture (H27)\n",
    "ts_pivot_rzsm = pd.pivot_table(ts_resample_rzsm, index=['month'], columns=['year'], values=['mean'])\n",
    "ts_group_rzsm = pd.DataFrame()\n",
    "ts_group_rzsm['sm'] = ts_resample_rzsm.groupby(['month'])['mean'].mean()\n",
    "ts_group_rzsm['index'] = ts_group_rzsm.sm.index"
   ]
  },
  {
   "cell_type": "markdown",
   "metadata": {},
   "source": [
    "#### 3. Compute soil moisture anomalies using average values "
   ]
  },
  {
   "cell_type": "code",
   "execution_count": null,
   "metadata": {},
   "outputs": [],
   "source": [
    "# Calculate anomaly based on moving +- anomaly_window_size/2 day window [anomaly_window_size = 35, 50 ...]\n",
    "anomaly_window_size = 200\n",
    "ts_anomaly = pd.DataFrame()\n",
    "ts_anomaly['sm'] = anomaly.calc_anomaly(ts_resample['mean'], window_size=anomaly_window_size)\n",
    "ts_anomaly['time'] = ts_anomaly.sm.index\n",
    "# Subset anomaly\n",
    "ts_anomaly_period = ts_anomaly.loc[\n",
    "    (ts_anomaly['time'] > '2006') & (ts_anomaly['time'] <= '2015')]"
   ]
  },
  {
   "cell_type": "code",
   "execution_count": null,
   "metadata": {},
   "outputs": [],
   "source": [
    "# Calculate anomaly based on moving +- anomaly_window_size/2 day window [anomaly_window_size = 35, 50 ...]\n",
    "anomaly_window_size = 200\n",
    "ts_anomaly_rzsm = pd.DataFrame()\n",
    "ts_anomaly_rzsm['sm'] = anomaly.calc_anomaly(ts_resample_rzsm['mean'], window_size=anomaly_window_size)\n",
    "ts_anomaly_rzsm['time'] = ts_anomaly_rzsm.sm.index\n",
    "# Subset anomaly\n",
    "ts_anomaly_rzsm_period = ts_anomaly_rzsm.loc[\n",
    "    (ts_anomaly_rzsm['time'] > '2006') & (ts_anomaly_rzsm['time'] <= '2015')]"
   ]
  },
  {
   "cell_type": "markdown",
   "metadata": {},
   "source": [
    "### Plot Time-Series"
   ]
  },
  {
   "cell_type": "markdown",
   "metadata": {},
   "source": [
    "#### 1. Plot time-series of ASCAT interannual monthly soil moisture values "
   ]
  },
  {
   "cell_type": "code",
   "execution_count": null,
   "metadata": {},
   "outputs": [],
   "source": [
    "# Plot ASCAT sm time-series interannual means\n",
    "fig, ax = plt.subplots(1, 1, figsize=(15, 5))\n",
    "ts_pivot.plot(ax=ax, label='sm')\n",
    "ts_group['sm'].plot(ax=ax, label= 'sm avg', color='#000000', lw=3, style='--')\n",
    "\n",
    "ax.set_xlim(0, 13)\n",
    "ax.set_ylim(0, 1)\n",
    "ax.grid(b=True) \n",
    "ax.set_title('ASCAT Soil Moisture Time Series')\n",
    "ax.set_ylabel('relative soil moisture')\n",
    "\n",
    "plt.xticks(np.arange(13), calendar.month_name[0:13])\n",
    "plt.legend()\n",
    "\n",
    "filename = os.path.join(exercize_path_img, \"lab1_ts_sm_avg.tiff\")\n",
    "fig.savefig(filename, dpi=120)"
   ]
  },
  {
   "cell_type": "markdown",
   "metadata": {},
   "source": [
    "#### 2. Plot time-series of ECMWF interannual monthly root zone soil moisture values"
   ]
  },
  {
   "cell_type": "code",
   "execution_count": null,
   "metadata": {},
   "outputs": [],
   "source": [
    "# Plot H27 sm time-series interannual means\n",
    "fig, ax = plt.subplots(1, 1, figsize=(15, 5))\n",
    "ts_pivot_rzsm.plot(ax=ax, label='sm')\n",
    "ts_group_rzsm['sm'].plot(ax=ax, label= 'sm avg', color='#000000', lw=3, style='--')\n",
    "\n",
    "ax.set_xlim(0, 13)\n",
    "ax.set_ylim(0, 1)\n",
    "ax.grid(b=True) \n",
    "ax.set_title('H27 Soil Moisture Time Series')\n",
    "ax.set_ylabel('relative soil moisture')\n",
    "\n",
    "plt.xticks(np.arange(13), calendar.month_name[0:13])\n",
    "plt.legend()\n",
    "\n",
    "filename = os.path.join(exercize_path_img, \"lab1_ts_rzsm_avg.tiff\")\n",
    "fig.savefig(filename, dpi=120)"
   ]
  },
  {
   "cell_type": "markdown",
   "metadata": {},
   "source": [
    "#### 3. Plot time-series of ASCAT soil moisture anomalies"
   ]
  },
  {
   "cell_type": "code",
   "execution_count": null,
   "metadata": {},
   "outputs": [],
   "source": [
    "# Plot ASCAT soil moisture variable for a gpi over domain\n",
    "fig, ax = plt.subplots(1, 1, figsize=(15, 5))\n",
    "ax.plot(ts_anomaly_period['sm'], lw=0.5, label='ASCAT SM Anomaly', color='#000000')\n",
    "\n",
    "ax.fill_between(ts_anomaly_period.index, ts_anomaly_period['sm'].values,\n",
    "                where=ts_anomaly_period['sm'] >= 0,\n",
    "                facecolor='#0000FF', alpha=10, interpolate=True)\n",
    "\n",
    "ax.fill_between(ts_anomaly_period.index, ts_anomaly_period['sm'].values,\n",
    "                where=ts_anomaly_period['sm'] < 0,\n",
    "                facecolor='#FF0000', alpha=5, interpolate=True)\n",
    "\n",
    "ax.set_ylim(-0.5, 0.5)\n",
    "ax.grid(b=True) \n",
    "ax.set_title('ASCAT Soil Moisture Anomaly')\n",
    "ax.set_ylabel('soil moisture anomalies')\n",
    "\n",
    "plt.legend()\n",
    "\n",
    "filename = os.path.join(exercize_path_img, \"lab1_ts_sm_anomaly.tiff\")\n",
    "fig.savefig(filename, dpi=120)"
   ]
  },
  {
   "cell_type": "markdown",
   "metadata": {},
   "source": [
    "#### 4. Plot time-series of ECMWF root zone soil moisture anomalies"
   ]
  },
  {
   "cell_type": "code",
   "execution_count": null,
   "metadata": {},
   "outputs": [],
   "source": [
    "# Plot H27 soil moisture variable for a gpi over domain\n",
    "fig, ax = plt.subplots(1, 1, figsize=(15, 5))\n",
    "ax.plot(ts_anomaly_rzsm_period['sm'], lw=0.5, label='H27 SM Anomaly', color='#000000')\n",
    "\n",
    "ax.fill_between(ts_anomaly_rzsm_period.index, ts_anomaly_rzsm_period['sm'].values,\n",
    "                where=ts_anomaly_rzsm_period['sm'] >= 0,\n",
    "                facecolor='#0000FF', alpha=10, interpolate=True)\n",
    "\n",
    "ax.fill_between(ts_anomaly_rzsm_period.index, ts_anomaly_rzsm_period['sm'].values,\n",
    "                where=ts_anomaly_rzsm_period['sm'] < 0,\n",
    "                facecolor='#FF0000', alpha=5, interpolate=True)\n",
    "\n",
    "ax.set_ylim(-0.5, 0.5)\n",
    "ax.grid(b=True) \n",
    "ax.set_title('H27 Soil Moisture Anomaly')\n",
    "ax.set_ylabel('soil moisture anomalies')\n",
    "\n",
    "plt.legend()\n",
    "\n",
    "filename = os.path.join(exercize_path_img, \"lab1_ts_rzsm_anomaly.tiff\")\n",
    "fig.savefig(filename, dpi=120)"
   ]
  },
  {
   "cell_type": "markdown",
   "metadata": {},
   "source": [
    "### B. Extract ASCAT,  ERA5 and RZSM datasets\n",
    "#### 1. Extract the time-series of ASCAT and RZSM\n",
    "* get all GPIS over domain\n",
    "* define accumulation period for droughts (drough_accum_period in months)\n",
    "* resample to daily values\n",
    "* compute droughts indexes (SSI and SPI)"
   ]
  },
  {
   "cell_type": "code",
   "execution_count": null,
   "metadata": {},
   "outputs": [],
   "source": [
    "from scipy.stats import norm\n",
    "\n",
    "idx=2\n",
    "acc_per = 2\n",
    "gpi_ascat = gpis_basin_ascat[idx]\n",
    "ts_ascat_raw = reader_ascat.read_ts(gpi_ascat)\n",
    "ts_ascat_avg = pd.DataFrame()\n",
    "ts_ascat_avg['avg'] = ts_ascat_raw['sm'].resample('D').mean().dropna()\n",
    "\n",
    "month_values = ts_ascat_avg['avg'].resample('MS').mean()\n",
    "month_values = month_values.interpolate()\n",
    "accum_period = month_values.rolling(acc_per).mean()\n",
    "\n",
    "accum_period = accum_period.dropna()\n",
    "\n",
    "SSI = accum_period.copy()\n",
    "print(SSI.head(n=12))\n",
    "\n",
    "mesi = np.arange(1, 13)\n",
    "\n",
    "for jj in mesi:\n",
    "\n",
    "    dfM = accum_period[accum_period.index.month == jj]\n",
    "\n",
    "    series = dfM.values\n",
    "    series = series[~np.isnan(series)]\n",
    "    n = len(series)\n",
    "    bp = np.zeros(len(series))\n",
    "\n",
    "    for ii in range(len(series)):\n",
    "        bp[ii] = np.sum(series <= series[ii])\n",
    "\n",
    "    # Plotting position formula Gringorten\n",
    "    y = (bp - 0.44) / (n + 0.12);\n",
    "    z = norm.ppf(y)\n",
    "\n",
    "    SSI.iloc[accum_period.index.month == jj] = z\n",
    "\n",
    "print(SSI.head(n=12))"
   ]
  },
  {
   "cell_type": "code",
   "execution_count": null,
   "metadata": {},
   "outputs": [],
   "source": [
    "from scipy.stats import norm\n",
    "\n",
    "idx=2\n",
    "acc_per = 2\n",
    "gpi_ascat = gpis_basin_ascat[idx]\n",
    "lon_ascat = lons_basin_ascat[idx]\n",
    "lat_ascat = lats_basin_ascat[idx]\n",
    "gpi_era5 = reader_era5.grid.find_nearest_gpi(lon_ascat, lat_ascat, max_dist=settings['max_dist'])[0]\n",
    "\n",
    "ts_era5_raw = reader_era5.read_ts(gpi_era5)\n",
    "\n",
    "ts_era5_avg = pd.DataFrame()\n",
    "ts_era5_avg['avg'] = ts_era5_raw['tp'].resample('D').mean().dropna()\n",
    "ts_era5_avg['month'] = ts_era5_avg['avg'].index.month\n",
    "\n",
    "ts_era5_avg.loc[ts_era5_avg['month'] == 1, 'avg'] = 0\n",
    "\n",
    "month_values = ts_era5_avg['avg'].resample('MS').mean()\n",
    "month_values = month_values.interpolate()\n",
    "accum_period = month_values.rolling(acc_per).mean()\n",
    "\n",
    "\n",
    "\n",
    "\n",
    "accum_period = accum_period.dropna()\n",
    "\n",
    "#print(accum_period.head(n=12))\n"
   ]
  },
  {
   "cell_type": "code",
   "execution_count": null,
   "metadata": {},
   "outputs": [],
   "source": [
    "# Compute drought SSI index based on ASCAT time-series\n",
    "drough_accum_period = 1\n",
    "ts_drought_ssi = pd.DataFrame()\n",
    "ts_ascat_ws = pd.DataFrame()\n",
    "for id, (gpi_ascat, lon_ascat, lat_ascat) in enumerate(zip(gpis_basin_ascat, lons_basin_ascat, lats_basin_ascat)):\n",
    "    \n",
    "    # Get ASCAT data\n",
    "    print(' ==> Step: ' + str(id+1) + '/' + str(gpis_basin_ascat.shape[0]))\n",
    "    \n",
    "    ts_sm = 'sm_' + str(gpi_ascat)\n",
    "    ts_anml = 'anml_' + str(gpi_ascat)\n",
    "    dr_ssi = 'ssi_' + str(gpi_ascat)\n",
    "    \n",
    "    ts_ascat = reader_ascat.read_ts(gpi_ascat)\n",
    "    ts_ascat = ts_ascat.loc[settings['time_start']:settings['time_end']]\n",
    "    \n",
    "    ts_ascat_ws[ts_sm] = ts_ascat.sm.resample('D').mean().dropna()\n",
    "    ts_ascat_ws[ts_anml] = anomaly.calc_anomaly(ts_ascat_ws[ts_sm], window_size=anomaly_window_size)\n",
    "    \n",
    "    print(ts_ascat_ws.head())\n",
    "    \n",
    "    ts_drought_ssi[dr_ssi] = ssi_gamma(ts_ascat_ws, drough_accum_period, ts_sm)\n",
    "    \n",
    "# Compute ssi average values\n",
    "ts_drought_ssi['mean']=ts_drought_ssi.mean(axis=1)"
   ]
  },
  {
   "cell_type": "code",
   "execution_count": null,
   "metadata": {},
   "outputs": [],
   "source": [
    "# Compute drought SSI index based on ECMWF time-series\n",
    "drough_accum_period = 1\n",
    "ts_drought_ssi_rzsm = pd.DataFrame()\n",
    "ts_rzsm_ws = pd.DataFrame()\n",
    "for id, (gpi_ascat, lon_ascat, lat_ascat) in enumerate(zip(gpis_basin_ascat, lons_basin_ascat, lats_basin_ascat)):\n",
    "       \n",
    "    # Select gpi for RZSM and ERA5\n",
    "    gpi_rzsm = reader_rzsm.grid.find_nearest_gpi(lon_ascat, lat_ascat, max_dist=settings['max_dist'])[0]\n",
    "    lon_rzsm, lat_rzsm = reader_rzsm.grid.gpi2lonlat(gpi_rzsm)\n",
    "    \n",
    "    gpi_era5 = reader_era5.grid.find_nearest_gpi(lon_ascat, lat_ascat, max_dist=settings['max_dist'])[0]\n",
    "    lon_era5, lat_era5 = reader_era5.grid.gpi2lonlat(gpi_era5)\n",
    "    \n",
    "    # Get ECMWF data\n",
    "    print(' ==> Step: ' + str(id+1) + '/' + str(gpis_basin_ascat.shape[0]))\n",
    "    \n",
    "    ts_sm2 = 'sm_' + str(gpi_ascat)\n",
    "    ts_rzsm_anml = 'anml_' + str(gpi_ascat)\n",
    "    dr_rzsm_ssi = 'ssi_' + str(gpi_ascat)\n",
    "    \n",
    "    ts_rzsm = reader_rzsm.read_ts(gpi_rzsm)\n",
    "    ts_rzsm = ts_rzsm.loc[settings['time_start']:settings['time_end']]\n",
    "    \n",
    "    ts_rzsm_ws[ts_sm2] = ts_rzsm.var40.resample('D').mean().dropna()\n",
    "    ts_rzsm_ws[ts_rzsm_anml] = anomaly.calc_anomaly(ts_rzsm_ws[ts_sm2], window_size=anomaly_window_size)\n",
    "    \n",
    "    ts_drought_ssi_rzsm[dr_rzsm_ssi] = ssi_gamma(ts_rzsm_ws, drough_accum_period, ts_sm2)\n",
    "    \n",
    "# Compute ssi average values\n",
    "ts_drought_ssi_rzsm['mean']=ts_drought_ssi_rzsm.mean(axis=1)"
   ]
  },
  {
   "cell_type": "code",
   "execution_count": null,
   "metadata": {},
   "outputs": [],
   "source": [
    "# Compute drought SPI index based on ERA5 time-series\n",
    "drough_accum_period = 3\n",
    "ts_drought_spi = pd.DataFrame()\n",
    "ts_era5_ws = pd.DataFrame()\n",
    "for id, (gpi_ascat, lon_ascat, lat_ascat) in enumerate(zip(gpis_basin_ascat, lons_basin_ascat, lats_basin_ascat)):\n",
    "       \n",
    "    # Select gpi for RZSM and ERA5\n",
    "    gpi_rzsm = reader_rzsm.grid.find_nearest_gpi(lon_ascat, lat_ascat, max_dist=settings['max_dist'])[0]\n",
    "    lon_rzsm, lat_rzsm = reader_rzsm.grid.gpi2lonlat(gpi_rzsm)\n",
    "    \n",
    "    gpi_era5 = reader_era5.grid.find_nearest_gpi(lon_ascat, lat_ascat, max_dist=settings['max_dist'])[0]\n",
    "    lon_era5, lat_era5 = reader_era5.grid.gpi2lonlat(gpi_era5)\n",
    "    \n",
    "    # Get ERA5 data\n",
    "    print(' ==> Step: ' + str(id+1) + '/' + str(gpis_basin_ascat.shape[0]))\n",
    "    \n",
    "    ts_tp = 'tp_' + str(gpi_ascat)\n",
    "    ts_skt = 'skt_' + str(gpi_ascat)\n",
    "    dr_spi = 'spi_' + str(gpi_ascat)\n",
    "    \n",
    "    ts_era5 = reader_era5.read_ts(gpi_era5)\n",
    "    ts_era5 = ts_era5.loc[settings['time_start']:settings['time_end']]\n",
    "    \n",
    "    ts_era5_ws[ts_tp] = ts_era5.tp.resample('D').mean().dropna()\n",
    "    ts_era5_ws[ts_tp] = ts_era5.tp.resample('D').mean().dropna()\n",
    "    \n",
    "    ts_drought_spi[dr_spi] = spi_gamma(ts_era5_ws, drough_accum_period, ts_tp)\n",
    "\n",
    "# Compute ssi average values\n",
    "ts_drought_spi['mean']=ts_drought_spi.mean(axis=1)"
   ]
  },
  {
   "cell_type": "markdown",
   "metadata": {},
   "source": [
    "### Plot time-series"
   ]
  },
  {
   "cell_type": "markdown",
   "metadata": {},
   "source": [
    "#### 1. Plot timeseries of SSI index based on ASCAT soil moisture values"
   ]
  },
  {
   "cell_type": "code",
   "execution_count": null,
   "metadata": {},
   "outputs": [],
   "source": [
    "# Plot average ASCAT SSI index\n",
    "fig, ax = plt.subplots(1, 1, figsize=(15, 5))\n",
    "ax.plot(ts_drought_ssi['mean'], lw=2, label='SSI', color='#000000')\n",
    "\n",
    "ax.fill_between(ts_drought_ssi.index, ts_drought_ssi['mean'].values,\n",
    "                where=ts_drought_ssi['mean'] >= 0,\n",
    "                facecolor='#0000FF', alpha=10, interpolate=True)\n",
    "\n",
    "ax.fill_between(ts_drought_ssi.index, ts_drought_ssi['mean'].values,\n",
    "                where=ts_drought_ssi['mean'] < 0,\n",
    "               facecolor='#FF0000', alpha=5, interpolate=True)\n",
    "\n",
    "ax.set_ylim(-3, 3)\n",
    "ax.grid(b=True) \n",
    "ax.set_title('ASCAT Standardized Soil Moisture Index (SSI)')\n",
    "ax.set_ylabel('SSI [-]')\n",
    "\n",
    "plt.legend()\n",
    "\n",
    "filename = os.path.join(exercize_path_img, \"lab1_ts_ssi_avg.tiff\")\n",
    "fig.savefig(filename, dpi=120)"
   ]
  },
  {
   "cell_type": "markdown",
   "metadata": {},
   "source": [
    "#### 2. Plot timeseries of SSI index based on ECMWF root zone soil moisture values"
   ]
  },
  {
   "cell_type": "code",
   "execution_count": null,
   "metadata": {},
   "outputs": [],
   "source": [
    "# Plot average H27 SSI index\n",
    "fig, ax = plt.subplots(1, 1, figsize=(15, 5))\n",
    "ax.plot(ts_drought_ssi_rzsm['mean'], lw=2, label='H27 SSI', color='#000000')\n",
    "\n",
    "ax.fill_between(ts_drought_ssi_rzsm.index, ts_drought_ssi_rzsm['mean'].values,\n",
    "                where=ts_drought_ssi_rzsm['mean'] >= 0,\n",
    "                facecolor='#0000FF', alpha=10, interpolate=True)\n",
    "\n",
    "ax.fill_between(ts_drought_ssi_rzsm.index, ts_drought_ssi_rzsm['mean'].values,\n",
    "                where=ts_drought_ssi_rzsm['mean'] < 0,\n",
    "               facecolor='#FF0000', alpha=5, interpolate=True)\n",
    "\n",
    "ax.set_ylim(-3, 3)\n",
    "ax.grid(b=True) \n",
    "ax.set_title('H27 Standardized Soil Moisture Index (SSI)')\n",
    "ax.set_ylabel('SSI [-]')\n",
    "\n",
    "plt.legend()\n",
    "\n",
    "filename = os.path.join(exercize_path_img, \"lab1_ts_H27_ssi_avg.tiff\")\n",
    "fig.savefig(filename, dpi=120)"
   ]
  },
  {
   "cell_type": "code",
   "execution_count": null,
   "metadata": {},
   "outputs": [],
   "source": []
  },
  {
   "cell_type": "markdown",
   "metadata": {},
   "source": [
    "#### 3. Plot timeseries of SPI index based on ERA5 rainfall values"
   ]
  },
  {
   "cell_type": "code",
   "execution_count": null,
   "metadata": {},
   "outputs": [],
   "source": [
    "# Plot average SPI index\n",
    "fig, ax = plt.subplots(1, 1, figsize=(15, 5))\n",
    "ax.plot(ts_drought_spi['mean'], lw=2, label='SPI', color='#000000')\n",
    "\n",
    "ax.fill_between(ts_drought_spi.index, ts_drought_spi['mean'].values,\n",
    "                where=ts_drought_spi['mean'] >= 0,\n",
    "                facecolor='#0000FF', alpha=10, interpolate=True)\n",
    "\n",
    "ax.fill_between(ts_drought_spi.index, ts_drought_spi['mean'].values,\n",
    "                where=ts_drought_spi['mean'] < 0,\n",
    "               facecolor='#FF0000', alpha=5, interpolate=True)\n",
    "\n",
    "ax.set_ylim(-3, 3)\n",
    "ax.grid(b=True) \n",
    "ax.set_title('Standardized Precipitation Index (SPI)')\n",
    "ax.set_ylabel('SPI [-]')\n",
    "\n",
    "plt.legend()\n",
    "\n",
    "filename = os.path.join(exercize_path_img, \"lab1_ts_spi_avg.tiff\")\n",
    "fig.savefig(filename, dpi=120)"
   ]
  },
  {
   "cell_type": "markdown",
   "metadata": {},
   "source": [
    "### C. Extract ASCAT,  ERA5 and RZSM datasets\n",
    "#### 1. Extract data of ASCAT and RZSM for a selected date\n",
    "* define a time analysis (time_analysis)\n",
    "* compute soil moisture and soil moisture anomalies"
   ]
  },
  {
   "cell_type": "code",
   "execution_count": null,
   "metadata": {},
   "outputs": [],
   "source": [
    "# Define a tine analysis for mapping results [%Y-%m-%d %H:%M\"]\n",
    "time_analysis = \"2011-10-15 00:00\"\n",
    "\n",
    "# Convert time to first and last day of month\n",
    "date_analysis = datetime.datetime.strptime(time_analysis, \"%Y-%m-%d %H:%M\")\n",
    "year_analysis = date_analysis.strftime('%Y')\n",
    "month_analysis = date_analysis.strftime('%m')\n",
    "day_analysis = calendar.monthrange(int(year_analysis), int(month_analysis))[1]\n",
    "\n",
    "data_analysis_first_day = date_analysis.replace(day = 1)\n",
    "data_analysis_last_day = date_analysis.replace(day = calendar.monthrange(date_analysis.year, date_analysis.month)[1])\n",
    "time_analysis_first_day = data_analysis_first_day.strftime(\"%Y-%m-%d\")\n",
    "time_analysis_last_day = data_analysis_last_day.strftime(\"%Y-%m-%d\")"
   ]
  },
  {
   "cell_type": "code",
   "execution_count": null,
   "metadata": {},
   "outputs": [],
   "source": [
    "# Get ASCAT data for a selected date\n",
    "pnt_ascat_ws = pd.DataFrame(columns=['lon', 'lat', 'gpi', 'sm', 'anomaly', 'time'])\n",
    "for id, (gpi_ascat, lon_ascat, lat_ascat) in enumerate(zip(gpis_basin_ascat, lons_basin_ascat, lats_basin_ascat)):\n",
    "    \n",
    "    ts_sm = 'sm_' + str(gpi_ascat)\n",
    "    ts_anml = 'anml_' + str(gpi_ascat)\n",
    "\n",
    "    pnt_ascat_sm = df_time_matching(ts_ascat_ws[ts_sm], time_analysis, \n",
    "                                    window=200)[0]\n",
    "    pnt_ascat_anml = df_time_matching(ts_ascat_ws[ts_anml], time_analysis, \n",
    "                                    window=200)[0]\n",
    "    \n",
    "    pnt_ascat_ws = pnt_ascat_ws.append(\n",
    "        {'lon': lon_ascat, 'lat': lat_ascat, 'gpi': gpi_ascat,\n",
    "         'sm': pnt_ascat_sm, 'anomaly': pnt_ascat_anml,\n",
    "         'time': time_analysis_last_day}, ignore_index=True)\n",
    "    \n",
    "# Print ssi point(s)\n",
    "pnt_ascat_ws = pnt_ascat_ws.dropna()\n",
    "print(pnt_ascat_ws.head(n=2)); print(pnt_ascat_ws.tail(n=2))"
   ]
  },
  {
   "cell_type": "code",
   "execution_count": null,
   "metadata": {},
   "outputs": [],
   "source": [
    "# Get ECMWF data for a selected date\n",
    "pnt_rzsm_ws = pd.DataFrame(columns=['lon', 'lat', 'gpi', 'sm', 'anomaly', 'time'])\n",
    "for id, (gpi_ascat, lon_ascat, lat_ascat) in enumerate(zip(gpis_basin_ascat, lons_basin_ascat, lats_basin_ascat)):\n",
    "       \n",
    "    # Select gpi for RZSM and ERA5\n",
    "    gpi_rzsm = reader_rzsm.grid.find_nearest_gpi(lon_ascat, lat_ascat, max_dist=settings['max_dist'])[0]\n",
    "    lon_rzsm, lat_rzsm = reader_rzsm.grid.gpi2lonlat(gpi_rzsm)\n",
    "    \n",
    "    gpi_era5 = reader_era5.grid.find_nearest_gpi(lon_ascat, lat_ascat, max_dist=settings['max_dist'])[0]\n",
    "    lon_era5, lat_era5 = reader_era5.grid.gpi2lonlat(gpi_era5)\n",
    "    \n",
    "    ts_sm2 = 'sm_' + str(gpi_ascat)\n",
    "    ts_rzsm_anml = 'anml_' + str(gpi_ascat)\n",
    "\n",
    "    pnt_rzsm_sm = df_time_matching(ts_rzsm_ws[ts_sm2], time_analysis, \n",
    "                                    window=200)[0]\n",
    "    pnt_rzsm_anml = df_time_matching(ts_rzsm_ws[ts_rzsm_anml], time_analysis, \n",
    "                                    window=200)[0]\n",
    "    \n",
    "    pnt_rzsm_ws = pnt_rzsm_ws.append(\n",
    "        {'lon': lon_ascat, 'lat': lat_ascat, 'gpi': gpi_ascat,\n",
    "         'sm': pnt_rzsm_sm, 'anomaly': pnt_rzsm_anml,\n",
    "         'time': time_analysis_last_day}, ignore_index=True)\n",
    "    \n",
    "# Print ssi point(s)\n",
    "pnt_rzsm_ws = pnt_rzsm_ws.dropna()\n",
    "print(pnt_rzsm_ws.head(n=2)); print(pnt_rzsm_ws.tail(n=2))"
   ]
  },
  {
   "cell_type": "markdown",
   "metadata": {},
   "source": [
    "#### 2. Interpolation of ASCAT and ECMWF values for selected date (nearest neighbour method)\n",
    "* all variables (sm, sm anomaly, rzsm, rzsm anomaly) are interpolated over basin domain\n",
    "* figures are created and maps are saved as geotiff"
   ]
  },
  {
   "cell_type": "code",
   "execution_count": null,
   "metadata": {},
   "outputs": [],
   "source": [
    "# Interpolate values over domain\n",
    "map_ascat_sm = interpolate_point2map(pnt_ascat_ws['lon'].values, pnt_ascat_ws['lat'].values, \n",
    "                                        pnt_ascat_ws['sm'].values, basin_lons_2d, basin_lats_2d)\n",
    "map_ascat_anml = interpolate_point2map(pnt_ascat_ws['lon'].values, pnt_ascat_ws['lat'].values, \n",
    "                                        pnt_ascat_ws['anomaly'].values, basin_lons_2d, basin_lats_2d)\n",
    "# Save map(s) in a Tiff format (to plot file using QGIS)\n",
    "create_map(map_ascat_sm, basin_rows, basin_cols, basin_epsg, basin_transform,\n",
    "           file_name_data=os.path.join(exercize_path_img, \"lab1_map_ascat_sm_qgis.tiff\"),\n",
    "           file_name_mask=os.path.join(domain_path_layer, file_tiff_domain))\n",
    "create_map(map_ascat_anml, basin_rows, basin_cols, basin_epsg, basin_transform,\n",
    "           file_name_data=os.path.join(exercize_path_img, \"lab1_map_ascat_sm_anomaly_qgis.tiff\"),\n",
    "           file_name_mask=os.path.join(domain_path_layer, file_tiff_domain))\n",
    "\n",
    "# Compute average value\n",
    "avg_ascat_sm = np.nanmean(map_ascat_sm)\n",
    "# Print ASCAT soil moisture average value(s)\n",
    "print('ASCAT sm average value: ' + str(avg_ascat_sm))"
   ]
  },
  {
   "cell_type": "code",
   "execution_count": null,
   "metadata": {},
   "outputs": [],
   "source": [
    "# Interpolate values over domain\n",
    "map_rzsm_sm = interpolate_point2map(pnt_rzsm_ws['lon'].values, pnt_rzsm_ws['lat'].values, \n",
    "                                        pnt_rzsm_ws['sm'].values, basin_lons_2d, basin_lats_2d)\n",
    "map_rzsm_anml = interpolate_point2map(pnt_rzsm_ws['lon'].values, pnt_rzsm_ws['lat'].values, \n",
    "                                        pnt_rzsm_ws['anomaly'].values, basin_lons_2d, basin_lats_2d)\n",
    "# Save map(s) in a Tiff format (to plot file using QGIS)\n",
    "create_map(map_rzsm_sm, basin_rows, basin_cols, basin_epsg, basin_transform,\n",
    "           file_name_data=os.path.join(exercize_path_img, \"lab1_map_rzsm_sm_qgis.tiff\"),\n",
    "           file_name_mask=os.path.join(domain_path_layer, file_tiff_domain))\n",
    "create_map(map_rzsm_anml, basin_rows, basin_cols, basin_epsg, basin_transform,\n",
    "           file_name_data=os.path.join(exercize_path_img, \"lab1_map_rzsm_sm_anomaly_qgis.tiff\"),\n",
    "           file_name_mask=os.path.join(domain_path_layer, file_tiff_domain))\n",
    "\n",
    "# Compute average value\n",
    "avg_rzsm_sm = np.nanmean(map_rzsm_sm)\n",
    "# Print ASCAT soil moisture average value(s)\n",
    "print('H27 sm average value: ' + str(avg_rzsm_sm))"
   ]
  },
  {
   "cell_type": "markdown",
   "metadata": {},
   "source": [
    "### Plot maps"
   ]
  },
  {
   "cell_type": "markdown",
   "metadata": {},
   "source": [
    "#### 1. Plot map of ASCAT soil moisture"
   ]
  },
  {
   "cell_type": "code",
   "execution_count": null,
   "metadata": {},
   "outputs": [],
   "source": [
    "# Plot map of ASCAT SM\n",
    "data = map_ascat_sm\n",
    "lons = basin_lons_2d\n",
    "lats = np.flipud(basin_lats_2d)\n",
    "\n",
    "vmin = 0\n",
    "vmax = 1\n",
    "cb_label='ASCAT SM'\n",
    "\n",
    "cmap_name='RdYlBu'\n",
    "\n",
    "minlat = basin_bbox.bottom\n",
    "maxlat = basin_bbox.top\n",
    "minlon = basin_bbox.left\n",
    "maxlon = basin_bbox.right\n",
    "\n",
    "cb_xticklabels = ['0', '0.1', '0.2', '0.3', '0.4', '0.5', '0.6', '0.7', '0.8', '0.9', '1.0']\n",
    "cb_tickloc = [0, 0.1, 0.2, 0.3, 0.4, 0.5, 0.6, 0.7, 0.8, 0.9, 1.0]\n",
    "\n",
    "norm = mc.Normalize(vmin=vmin, vmax=vmax)\n",
    "\n",
    "fig, ax = plt.subplots(figsize=(7, 7))\n",
    "basemap = Basemap(llcrnrlat=minlat, urcrnrlat=maxlat, llcrnrlon=minlon, urcrnrlon=maxlon, resolution='i')\n",
    "basemap.drawmapboundary(linewidth=0)\n",
    "#oBaseMap.fillcontinents(color='gray', zorder=2)\n",
    "basemap.drawparallels(np.arange(minlat, maxlat, 0.5), labels=[True, False, False, False], fontsize=10)\n",
    "basemap.drawmeridians(np.arange(minlon, maxlon, 0.5), labels=[False, False, False, True], fontsize=10)\n",
    "\n",
    "basedata = basemap.pcolormesh(lons, lats, \n",
    "                                data, shading='flat', norm=norm, cmap=cmap_name)\n",
    "\n",
    "cb_ax = fig.add_axes([0.1, 0.05, 0.8, 0.02])\n",
    "cb = fig.colorbar(basedata, orientation='horizontal', cax=cb_ax, extend='both')\n",
    "cb.set_label(cb_label, fontsize=15)\n",
    "cb.ax.tick_params(labelsize=15)\n",
    "cb.set_ticks(cb_tickloc)\n",
    "cb.ax.set_xticklabels(cb_xticklabels)\n",
    "\n",
    "filename = os.path.join(exercize_path_img, \"lab1_map_ascat_sm.tiff\")\n",
    "fig.savefig(filename, dpi=120)"
   ]
  },
  {
   "cell_type": "markdown",
   "metadata": {},
   "source": [
    "#### 2. Plot map of ECMWF root zone soil moisture"
   ]
  },
  {
   "cell_type": "code",
   "execution_count": null,
   "metadata": {},
   "outputs": [],
   "source": [
    "# Plot map of H27 SM\n",
    "data = map_rzsm_sm\n",
    "lons = basin_lons_2d\n",
    "lats = np.flipud(basin_lats_2d)\n",
    "\n",
    "vmin = 0\n",
    "vmax = 1\n",
    "cb_label='H27 SM'\n",
    "\n",
    "cmap_name='RdYlBu'\n",
    "\n",
    "minlat = basin_bbox.bottom\n",
    "maxlat = basin_bbox.top\n",
    "minlon = basin_bbox.left\n",
    "maxlon = basin_bbox.right\n",
    "\n",
    "cb_xticklabels = ['0', '0.1', '0.2', '0.3', '0.4', '0.5', '0.6', '0.7', '0.8', '0.9', '1.0']\n",
    "cb_tickloc = [0, 0.1, 0.2, 0.3, 0.4, 0.5, 0.6, 0.7, 0.8, 0.9, 1.0]\n",
    "\n",
    "norm = mc.Normalize(vmin=vmin, vmax=vmax)\n",
    "\n",
    "fig, ax = plt.subplots(figsize=(7, 7))\n",
    "basemap = Basemap(llcrnrlat=minlat, urcrnrlat=maxlat, llcrnrlon=minlon, urcrnrlon=maxlon, resolution='i')\n",
    "basemap.drawmapboundary(linewidth=0)\n",
    "#oBaseMap.fillcontinents(color='gray', zorder=2)\n",
    "basemap.drawparallels(np.arange(minlat, maxlat, 0.5), labels=[True, False, False, False], fontsize=10)\n",
    "basemap.drawmeridians(np.arange(minlon, maxlon, 0.5), labels=[False, False, False, True], fontsize=10)\n",
    "\n",
    "basedata = basemap.pcolormesh(lons, lats, \n",
    "                                data, shading='flat', norm=norm, cmap=cmap_name)\n",
    "\n",
    "cb_ax = fig.add_axes([0.1, 0.05, 0.8, 0.02])\n",
    "cb = fig.colorbar(basedata, orientation='horizontal', cax=cb_ax, extend='both')\n",
    "cb.set_label(cb_label, fontsize=15)\n",
    "cb.ax.tick_params(labelsize=15)\n",
    "cb.set_ticks(cb_tickloc)\n",
    "cb.ax.set_xticklabels(cb_xticklabels)\n",
    "\n",
    "filename = os.path.join(exercize_path_img, \"lab1_map_rzsm_sm.tiff\")\n",
    "fig.savefig(filename, dpi=120)"
   ]
  },
  {
   "cell_type": "markdown",
   "metadata": {},
   "source": [
    "#### 3. Plot map of ASCAT soil moisture anomalies"
   ]
  },
  {
   "cell_type": "code",
   "execution_count": null,
   "metadata": {},
   "outputs": [],
   "source": [
    "# Plot map of ASCAT SM ANOMALY\n",
    "data = map_ascat_anml\n",
    "lons = basin_lons_2d\n",
    "lats = np.flipud(basin_lats_2d)\n",
    "\n",
    "vmin = -0.3\n",
    "vmax = 0.3\n",
    "cb_label='ASCAT SM ANOMALY'\n",
    "\n",
    "cmap_name='RdYlBu'\n",
    "\n",
    "minlat = basin_bbox.bottom\n",
    "maxlat = basin_bbox.top\n",
    "minlon = basin_bbox.left\n",
    "maxlon = basin_bbox.right\n",
    "\n",
    "cb_xticklabels = ['-0.3', '-0.2', '-0.1', '0.0', '0.1', '0.2', '0.3']\n",
    "cb_tickloc = [-0.3, -0.2, -0.1, 0.0, 0.1, 0.2, 0.3]\n",
    "\n",
    "norm = mc.Normalize(vmin=vmin, vmax=vmax)\n",
    "\n",
    "fig, ax = plt.subplots(figsize=(7, 7))\n",
    "basemap = Basemap(llcrnrlat=minlat, urcrnrlat=maxlat, llcrnrlon=minlon, urcrnrlon=maxlon, resolution='i')\n",
    "basemap.drawmapboundary(linewidth=0)\n",
    "#oBaseMap.fillcontinents(color='gray', zorder=2)\n",
    "basemap.drawparallels(np.arange(minlat, maxlat, 0.5), labels=[True, False, False, False], fontsize=10)\n",
    "basemap.drawmeridians(np.arange(minlon, maxlon, 0.5), labels=[False, False, False, True], fontsize=10)\n",
    "\n",
    "basedata = basemap.pcolormesh(lons, lats, \n",
    "                                data, shading='flat', norm=norm, cmap=cmap_name)\n",
    "\n",
    "cb_ax = fig.add_axes([0.1, 0.05, 0.8, 0.02])\n",
    "cb = fig.colorbar(basedata, orientation='horizontal', cax=cb_ax, extend='both')\n",
    "cb.set_label(cb_label, fontsize=15)\n",
    "cb.ax.tick_params(labelsize=15)\n",
    "cb.set_ticks(cb_tickloc)\n",
    "cb.ax.set_xticklabels(cb_xticklabels)\n",
    "\n",
    "filename = os.path.join(exercize_path_img, \"lab1_map_ascat_sm_anomaly.tiff\")\n",
    "fig.savefig(filename, dpi=120)"
   ]
  },
  {
   "cell_type": "markdown",
   "metadata": {},
   "source": [
    "#### 4. Plot map of ECMWF root zone soil moisture anomalies"
   ]
  },
  {
   "cell_type": "code",
   "execution_count": null,
   "metadata": {},
   "outputs": [],
   "source": [
    "# Plot map of H27 SM ANOMALY\n",
    "data = map_rzsm_anml\n",
    "lons = basin_lons_2d\n",
    "lats = np.flipud(basin_lats_2d)\n",
    "\n",
    "vmin = -0.3\n",
    "vmax = 0.3\n",
    "cb_label='H27 SM ANOMALY'\n",
    "\n",
    "cmap_name='RdYlBu'\n",
    "\n",
    "minlat = basin_bbox.bottom\n",
    "maxlat = basin_bbox.top\n",
    "minlon = basin_bbox.left\n",
    "maxlon = basin_bbox.right\n",
    "\n",
    "cb_xticklabels = ['-0.3', '-0.2', '-0.1', '0.0', '0.1', '0.2', '0.3']\n",
    "cb_tickloc = [-0.3, -0.2, -0.1, 0.0, 0.1, 0.2, 0.3]\n",
    "\n",
    "norm = mc.Normalize(vmin=vmin, vmax=vmax)\n",
    "\n",
    "fig, ax = plt.subplots(figsize=(7, 7))\n",
    "basemap = Basemap(llcrnrlat=minlat, urcrnrlat=maxlat, llcrnrlon=minlon, urcrnrlon=maxlon, resolution='i')\n",
    "basemap.drawmapboundary(linewidth=0)\n",
    "#oBaseMap.fillcontinents(color='gray', zorder=2)\n",
    "basemap.drawparallels(np.arange(minlat, maxlat, 0.5), labels=[True, False, False, False], fontsize=10)\n",
    "basemap.drawmeridians(np.arange(minlon, maxlon, 0.5), labels=[False, False, False, True], fontsize=10)\n",
    "\n",
    "basedata = basemap.pcolormesh(lons, lats, \n",
    "                                data, shading='flat', norm=norm, cmap=cmap_name)\n",
    "\n",
    "cb_ax = fig.add_axes([0.1, 0.05, 0.8, 0.02])\n",
    "cb = fig.colorbar(basedata, orientation='horizontal', cax=cb_ax, extend='both')\n",
    "cb.set_label(cb_label, fontsize=15)\n",
    "cb.ax.tick_params(labelsize=15)\n",
    "cb.set_ticks(cb_tickloc)\n",
    "cb.ax.set_xticklabels(cb_xticklabels)\n",
    "\n",
    "filename = os.path.join(exercize_path_img, \"lab1_map_rzsm_sm_anomaly.tiff\")\n",
    "fig.savefig(filename, dpi=120)"
   ]
  },
  {
   "cell_type": "markdown",
   "metadata": {},
   "source": [
    "### D. Extract ASCAT,  ERA5 and RZSM datasets\n",
    "#### 1. Extract data of ASCAT and RZSM for a selected date\n",
    "* define a time analysis (time_analysis)\n",
    "* define accumulation period for droughts (drough_accum_period in months)\n",
    "* get drought ssi index value "
   ]
  },
  {
   "cell_type": "code",
   "execution_count": null,
   "metadata": {},
   "outputs": [],
   "source": [
    "# Compute ASCAT SSI drought\n",
    "drough_accum_period = 1 # 1 month\n",
    "ts_drought_ssi = pd.DataFrame()\n",
    "pnt_drought_ssi = pd.DataFrame(columns=['lon', 'lat', 'gpi', 'ssi', 'time'])\n",
    "for gpi_ascat, lon_ascat, lat_ascat in zip(gpis_basin_ascat, lons_basin_ascat, lats_basin_ascat):\n",
    "    \n",
    "    # Info\n",
    "    ts_sm = 'sm_' + str(gpi_ascat)\n",
    "    dr_ssi = 'ssi_' + str(gpi_ascat)\n",
    "\n",
    "    # Compute drought indices\n",
    "    ts_drought_ssi[dr_ssi] = ssi_gamma(ts_ascat_ws, drough_accum_period,ts_sm)\n",
    "\n",
    "    pnt_ssi = ts_drought_ssi[dr_ssi].loc[time_analysis_last_day]\n",
    "    \n",
    "    pnt_drought_ssi = pnt_drought_ssi.append(\n",
    "        {'lon': lon_ascat, 'lat': lat_ascat, 'gpi': gpi_ascat,\n",
    "         'ssi': pnt_ssi,\n",
    "         'time': time_analysis_last_day}, ignore_index=True)\n",
    "\n",
    "# Print ssi point(s)\n",
    "print(pnt_drought_ssi.head(n=2)); print(pnt_drought_ssi.tail(n=2))"
   ]
  },
  {
   "cell_type": "code",
   "execution_count": null,
   "metadata": {},
   "outputs": [],
   "source": [
    "# Compute H27 SSI drought\n",
    "drough_accum_period = 1 # 1 month\n",
    "ts_drought_rzsm_ssi = pd.DataFrame()\n",
    "pnt_drought_rzsm_ssi = pd.DataFrame(columns=['lon', 'lat', 'gpi', 'ssi', 'time'])\n",
    "for gpi_ascat, lon_ascat, lat_ascat in zip(gpis_basin_ascat, lons_basin_ascat, lats_basin_ascat):\n",
    "    \n",
    "    # Info\n",
    "    ts_sm2 = 'sm_' + str(gpi_ascat)\n",
    "    dr_rzsm_ssi = 'ssi_' + str(gpi_ascat)\n",
    "   \n",
    "    # Compute drought indices\n",
    "    ts_drought_rzsm_ssi[dr_rzsm_ssi] = ssi_gamma(ts_rzsm_ws, drough_accum_period, ts_sm2)\n",
    "\n",
    "    pnt_rzsm_ssi = ts_drought_rzsm_ssi[dr_rzsm_ssi].loc[time_analysis_last_day]\n",
    "    \n",
    "    pnt_drought_rzsm_ssi = pnt_drought_rzsm_ssi.append(\n",
    "        {'lon': lon_ascat, 'lat': lat_ascat, 'gpi': gpi_ascat,\n",
    "         'ssi': pnt_rzsm_ssi,\n",
    "         'time': time_analysis_last_day}, ignore_index=True)\n",
    "\n",
    "# Print ssi point(s)\n",
    "print(pnt_drought_rzsm_ssi.head(n=2)); print(pnt_drought_rzsm_ssi.tail(n=2))"
   ]
  },
  {
   "cell_type": "markdown",
   "metadata": {},
   "source": [
    "#### 2. Interpolation of ASCAT and ECMWF values for selected date (nearest neighbour method)\n",
    "* all variables (ssi) are interpolated over basin domain\n",
    "* figures are created and maps are saved as geotiff"
   ]
  },
  {
   "cell_type": "code",
   "execution_count": null,
   "metadata": {},
   "outputs": [],
   "source": [
    "# Interpolate ASCAT SSI points over domain\n",
    "map_drought_ssi = interpolate_point2map(pnt_drought_ssi['lon'].values, pnt_drought_ssi['lat'].values, \n",
    "                                        pnt_drought_ssi['ssi'].values, basin_lons_2d, basin_lats_2d)\n",
    "# Save map in a Tiff format (to plot file using QGIS)\n",
    "create_map(map_drought_ssi, basin_rows, basin_cols, basin_epsg, basin_transform,\n",
    "           file_name_data=os.path.join(exercize_path_img, \"lab1_map_ssi_drought_qgis.tiff\"),\n",
    "           file_name_mask=os.path.join(domain_path_layer, file_tiff_domain))\n",
    "\n",
    "# Compute average value\n",
    "avg_drought_ssi = np.nanmean(map_drought_ssi)\n",
    "# Print SPI average value(s)\n",
    "print('SSI index average value: ' + str(avg_drought_ssi))"
   ]
  },
  {
   "cell_type": "code",
   "execution_count": null,
   "metadata": {},
   "outputs": [],
   "source": [
    "# Interpolate H27 SSI points over domain\n",
    "map_drought_rzsm_ssi = interpolate_point2map(pnt_drought_rzsm_ssi['lon'].values, pnt_drought_rzsm_ssi['lat'].values, \n",
    "                                        pnt_drought_rzsm_ssi['ssi'].values, basin_lons_2d, basin_lats_2d)\n",
    "# Save map in a Tiff format (to plot file using QGIS)\n",
    "create_map(map_drought_rzsm_ssi, basin_rows, basin_cols, basin_epsg, basin_transform,\n",
    "           file_name_data=os.path.join(exercize_path_img, \"lab1_map_rzsm_ssi_drought_qgis.tiff\"),\n",
    "           file_name_mask=os.path.join(domain_path_layer, file_tiff_domain))\n",
    "\n",
    "# Compute average value\n",
    "avg_drought_rzsm_ssi = np.nanmean(map_drought_rzsm_ssi)\n",
    "# Print SPI average value(s)\n",
    "print('H27 SSI index average value: ' + str(avg_drought_rzsm_ssi))"
   ]
  },
  {
   "cell_type": "markdown",
   "metadata": {},
   "source": [
    "### Plot maps"
   ]
  },
  {
   "cell_type": "markdown",
   "metadata": {},
   "source": [
    "#### 1. Plot map of ASCAT SSI"
   ]
  },
  {
   "cell_type": "code",
   "execution_count": null,
   "metadata": {},
   "outputs": [],
   "source": [
    "# Plot map of ASCAT SSI \n",
    "data = map_drought_ssi\n",
    "lons = basin_lons_2d\n",
    "lats = np.flipud(basin_lats_2d)\n",
    "\n",
    "vmin = -3\n",
    "vmax = 3\n",
    "cb_label='ASCAT SSI INDEX'\n",
    "\n",
    "cmap_name='RdYlBu'\n",
    "\n",
    "minlat = basin_bbox.bottom\n",
    "maxlat = basin_bbox.top\n",
    "minlon = basin_bbox.left\n",
    "maxlon = basin_bbox.right\n",
    "\n",
    "cb_xticklabels = ['-3.0', '-2.0', '-1.0', '0.0', '1.0', '2.0', '3.0']\n",
    "cb_tickloc = [-3.0, -2.0, -1.0, 0, 1.0, 2.0, 3.0]\n",
    "#cb_xticklabels = ['-1.5', '-1.0', '-0.5', '0.0', '0.5', '1.0', '1.5']\n",
    "#cb_tickloc = [-1.5, -1.0, -0.5, 0.0, 0.5, 1.0, 1.5]\n",
    "\n",
    "norm = mc.Normalize(vmin=vmin, vmax=vmax)\n",
    "\n",
    "fig, ax = plt.subplots(figsize=(7, 7))\n",
    "basemap = Basemap(llcrnrlat=minlat, urcrnrlat=maxlat, llcrnrlon=minlon, urcrnrlon=maxlon, resolution='i')\n",
    "basemap.drawmapboundary(linewidth=0)\n",
    "#oBaseMap.fillcontinents(color='gray', zorder=2)\n",
    "basemap.drawparallels(np.arange(minlat, maxlat, 0.5), labels=[True, False, False, False], fontsize=10)\n",
    "basemap.drawmeridians(np.arange(minlon, maxlon, 0.5), labels=[False, False, False, True], fontsize=10)\n",
    "\n",
    "basedata = basemap.pcolormesh(lons, lats, \n",
    "                                data, shading='flat', norm=norm, cmap=cmap_name)\n",
    "\n",
    "cb_ax = fig.add_axes([0.1, 0.05, 0.8, 0.02])\n",
    "cb = fig.colorbar(basedata, orientation='horizontal', cax=cb_ax, extend='both')\n",
    "cb.set_label(cb_label, fontsize=15)\n",
    "cb.ax.tick_params(labelsize=15)\n",
    "cb.set_ticks(cb_tickloc)\n",
    "cb.ax.set_xticklabels(cb_xticklabels)\n",
    "\n",
    "filename = os.path.join(exercize_path_img, \"lab1_map_ssi_drought.tiff\")\n",
    "fig.savefig(filename, dpi=120)"
   ]
  },
  {
   "cell_type": "markdown",
   "metadata": {},
   "source": [
    "#### 2. Plot map of ECMWF SSI"
   ]
  },
  {
   "cell_type": "code",
   "execution_count": null,
   "metadata": {},
   "outputs": [],
   "source": [
    "# Plot map of H27 SSI \n",
    "data = map_drought_rzsm_ssi\n",
    "lons = basin_lons_2d\n",
    "lats = np.flipud(basin_lats_2d)\n",
    "\n",
    "vmin = -3\n",
    "vmax = 3\n",
    "cb_label='H27 SSI INDEX'\n",
    "\n",
    "cmap_name='RdYlBu'\n",
    "\n",
    "minlat = basin_bbox.bottom\n",
    "maxlat = basin_bbox.top\n",
    "minlon = basin_bbox.left\n",
    "maxlon = basin_bbox.right\n",
    "\n",
    "cb_xticklabels = ['-3.0', '-2.0', '-1.0', '0.0', '1.0', '2.0', '3.0']\n",
    "cb_tickloc = [-3.0, -2.0, -1.0, 0, 1.0, 2.0, 3.0]\n",
    "\n",
    "norm = mc.Normalize(vmin=vmin, vmax=vmax)\n",
    "\n",
    "fig, ax = plt.subplots(figsize=(7, 7))\n",
    "basemap = Basemap(llcrnrlat=minlat, urcrnrlat=maxlat, llcrnrlon=minlon, urcrnrlon=maxlon, resolution='i')\n",
    "basemap.drawmapboundary(linewidth=0)\n",
    "#oBaseMap.fillcontinents(color='gray', zorder=2)\n",
    "basemap.drawparallels(np.arange(minlat, maxlat, 0.5), labels=[True, False, False, False], fontsize=10)\n",
    "basemap.drawmeridians(np.arange(minlon, maxlon, 0.5), labels=[False, False, False, True], fontsize=10)\n",
    "\n",
    "basedata = basemap.pcolormesh(lons, lats, \n",
    "                                data, shading='flat', norm=norm, cmap=cmap_name)\n",
    "\n",
    "cb_ax = fig.add_axes([0.1, 0.05, 0.8, 0.02])\n",
    "cb = fig.colorbar(basedata, orientation='horizontal', cax=cb_ax, extend='both')\n",
    "cb.set_label(cb_label, fontsize=15)\n",
    "cb.ax.tick_params(labelsize=15)\n",
    "cb.set_ticks(cb_tickloc)\n",
    "cb.ax.set_xticklabels(cb_xticklabels)\n",
    "\n",
    "filename = os.path.join(exercize_path_img, \"lab1_map_rzsm_ssi_drought.tiff\")\n",
    "fig.savefig(filename, dpi=120)"
   ]
  },
  {
   "cell_type": "markdown",
   "metadata": {},
   "source": [
    "### E. Extract ASCAT,  ERA5 and RZSM datasets\n",
    "#### 1. Extract data of ERA5 for a selected date\n",
    "* define a time analysis (time_analysis)\n",
    "* define accumulation period for droughts (drough_accum_period in months)\n",
    "* get drought spi index value "
   ]
  },
  {
   "cell_type": "code",
   "execution_count": null,
   "metadata": {},
   "outputs": [],
   "source": [
    "# Compute drought SPI\n",
    "drough_accum_period = 3 # 1 month\n",
    "ts_drought_spi = pd.DataFrame()\n",
    "pnt_drought_spi = pd.DataFrame(columns=['lon', 'lat', 'gpi', 'spi', 'time'])\n",
    "for gpi_ascat, lon_ascat, lat_ascat in zip(gpis_basin_ascat, lons_basin_ascat, lats_basin_ascat):\n",
    "    \n",
    "    # Info\n",
    "    ts_tp = 'tp_' + str(gpi_ascat)\n",
    "    dr_spi = 'spi_' + str(gpi_ascat)\n",
    "        \n",
    "    # Compute drought indices\n",
    "    ts_drought_spi[dr_spi] = spi_gamma(ts_era5_ws, drough_accum_period, ts_tp)\n",
    "    \n",
    "    pnt_spi = ts_drought_spi[dr_spi].loc[time_analysis_last_day]\n",
    "    \n",
    "    pnt_drought_spi = pnt_drought_spi.append(\n",
    "        {'lon': lon_ascat, 'lat': lat_ascat, 'gpi': gpi_ascat,\n",
    "         'spi': pnt_spi,\n",
    "         'time': time_analysis_last_day}, ignore_index=True)\n",
    "\n",
    "# Print spi point(s)\n",
    "print(pnt_drought_spi.head(n=2)); print(pnt_drought_spi.tail(n=2))"
   ]
  },
  {
   "cell_type": "markdown",
   "metadata": {},
   "source": [
    "#### 2. Interpolation of ERA5 values for selected date (nearest neighbour method)\n",
    "* all variables (spi) are interpolated over basin domain\n",
    "* figures are created and maps are saved as geotiff"
   ]
  },
  {
   "cell_type": "code",
   "execution_count": null,
   "metadata": {},
   "outputs": [],
   "source": [
    "# Interpolate SPI values over domain\n",
    "map_drought_spi = interpolate_point2map(pnt_drought_spi['lon'].values, pnt_drought_spi['lat'].values, \n",
    "                                        pnt_drought_spi['spi'].values, basin_lons_2d, basin_lats_2d)\n",
    "# Save map in a Tiff format (to plot file using QGIS)\n",
    "create_map(map_drought_spi, basin_rows, basin_cols, basin_epsg, basin_transform,\n",
    "           file_name_data=os.path.join(exercize_path_img, \"lab1_map_spi_drought_qgis.tiff\"),\n",
    "           file_name_mask=os.path.join(domain_path_layer, file_tiff_domain))\n",
    "\n",
    "# Compute average value\n",
    "avg_drought_spi = np.nanmean(map_drought_spi)\n",
    "# Print SPI average value(s)\n",
    "print('SPI index average value: ' + str(avg_drought_spi))"
   ]
  },
  {
   "cell_type": "markdown",
   "metadata": {},
   "source": [
    "### Plot maps"
   ]
  },
  {
   "cell_type": "markdown",
   "metadata": {},
   "source": [
    "### Plot map of ERA5 spi"
   ]
  },
  {
   "cell_type": "code",
   "execution_count": null,
   "metadata": {},
   "outputs": [],
   "source": [
    "# Plot map of SPI \n",
    "data = map_drought_spi\n",
    "lons = basin_lons_2d\n",
    "lats = np.flipud(basin_lats_2d)\n",
    "\n",
    "vmin = -3\n",
    "vmax = 3\n",
    "cb_label='SPI INDEX'\n",
    "\n",
    "cmap_name='RdYlBu'\n",
    "\n",
    "minlat = basin_bbox.bottom\n",
    "maxlat = basin_bbox.top\n",
    "minlon = basin_bbox.left\n",
    "maxlon = basin_bbox.right\n",
    "\n",
    "cb_xticklabels = ['-3.0', '-2.0', '-1.0', '0.0', '1.0', '2.0', '3.0']\n",
    "cb_tickloc = [-3.0, -2.0, -1.0, 0, 1.0, 2.0, 3.0]\n",
    "\n",
    "norm = mc.Normalize(vmin=vmin, vmax=vmax)\n",
    "\n",
    "fig, ax = plt.subplots(figsize=(7, 7))\n",
    "basemap = Basemap(llcrnrlat=minlat, urcrnrlat=maxlat, llcrnrlon=minlon, urcrnrlon=maxlon, resolution='i')\n",
    "basemap.drawmapboundary(linewidth=0)\n",
    "#oBaseMap.fillcontinents(color='gray', zorder=2)\n",
    "basemap.drawparallels(np.arange(minlat, maxlat, 0.5), labels=[True, False, False, False], fontsize=10)\n",
    "basemap.drawmeridians(np.arange(minlon, maxlon, 0.5), labels=[False, False, False, True], fontsize=10)\n",
    "\n",
    "basedata = basemap.pcolormesh(lons, lats, \n",
    "                                data, shading='flat', norm=norm, cmap=cmap_name)\n",
    "\n",
    "cb_ax = fig.add_axes([0.1, 0.05, 0.8, 0.02])\n",
    "cb = fig.colorbar(basedata, orientation='horizontal', cax=cb_ax, extend='both')\n",
    "cb.set_label(cb_label, fontsize=15)\n",
    "cb.ax.tick_params(labelsize=15)\n",
    "cb.set_ticks(cb_tickloc)\n",
    "cb.ax.set_xticklabels(cb_xticklabels)\n",
    "\n",
    "filename = os.path.join(exercize_path_img, \"lab1_map_spi_drought.tiff\")\n",
    "fig.savefig(filename, dpi=120)"
   ]
  },
  {
   "cell_type": "code",
   "execution_count": null,
   "metadata": {},
   "outputs": [],
   "source": []
  }
 ],
 "metadata": {
  "kernelspec": {
   "display_name": "Python 2",
   "language": "python",
   "name": "python2"
  },
  "language_info": {
   "codemirror_mode": {
    "name": "ipython",
    "version": 2
   },
   "file_extension": ".py",
   "mimetype": "text/x-python",
   "name": "python",
   "nbconvert_exporter": "python",
   "pygments_lexer": "ipython2",
   "version": "2.7.16"
  }
 },
 "nbformat": 4,
 "nbformat_minor": 2
}
